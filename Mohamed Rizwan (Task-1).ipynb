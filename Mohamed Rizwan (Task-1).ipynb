{
 "cells": [
  {
   "cell_type": "code",
   "execution_count": null,
   "metadata": {},
   "outputs": [],
   "source": [
    "#Python Programming Internship at Mainflow Task-1 by Mohamed Rizwan M"
   ]
  },
  {
   "cell_type": "code",
   "execution_count": 1,
   "metadata": {},
   "outputs": [
    {
     "name": "stdout",
     "output_type": "stream",
     "text": [
      "Updated list: [12, 3, 4, 'Bye', 5, 7]\n"
     ]
    }
   ],
   "source": [
    "#Creating a list\n",
    "my_list = [1,2,3,4,5]\n",
    "\n",
    "#Adding an element to the list\n",
    "my_list.append(7)\n",
    "\n",
    "#Removing an element from the list\n",
    "my_list.remove(2)\n",
    "\n",
    "#Modifying an element in the list\n",
    "my_list[0] = 12\n",
    "\n",
    "#Inserting an element in our list\n",
    "my_list.insert(3, \"Bye\")\n",
    "\n",
    "print (\"Updated list:\", my_list)"
   ]
  },
  {
   "cell_type": "code",
   "execution_count": 2,
   "metadata": {},
   "outputs": [
    {
     "name": "stdout",
     "output_type": "stream",
     "text": [
      "Updated Dictionary: {'Name': 'Rizi', 'City': 'Banglore', 'Gender': 'Male'}\n"
     ]
    }
   ],
   "source": [
    "#Creating a dictionary\n",
    "my_dict = {'Name':'Rizi','Age':'19','City':'Coimbatore'}\n",
    "\n",
    "#Adding a key Value pair to the dictionary\n",
    "my_dict['Gender'] = 'Male'\n",
    "\n",
    "#Removing a key Value pair to the dictionary\n",
    "del my_dict['Age']\n",
    "\n",
    "#Modifying a value in the Dictionary\n",
    "my_dict['City'] = 'Banglore'\n",
    "\n",
    "print (\"Updated Dictionary:\",my_dict)"
   ]
  },
  {
   "cell_type": "code",
   "execution_count": 3,
   "metadata": {},
   "outputs": [
    {
     "name": "stdout",
     "output_type": "stream",
     "text": [
      "Updated Tuple: (1, 2, 7)\n"
     ]
    }
   ],
   "source": [
    "#Original tuple\n",
    "original_tuple = (1,2,3)\n",
    "\n",
    "#Adding a New element to the tuple\n",
    "new_element = 6\n",
    "updated_tuple = original_tuple + (new_element,)\n",
    "\n",
    "#Removing an element from the tuple\n",
    "updated_tuple = original_tuple[:1] + original_tuple[2:]\n",
    "\n",
    "#Modifying an Element in the tuple\n",
    "modified_element = 7\n",
    "updated_tuple = original_tuple[:2] + (modified_element,) + original_tuple[3:]\n",
    "\n",
    "print (\"Updated Tuple:\",updated_tuple)"
   ]
  }
 ],
 "metadata": {
  "kernelspec": {
   "display_name": "base",
   "language": "python",
   "name": "python3"
  },
  "language_info": {
   "codemirror_mode": {
    "name": "ipython",
    "version": 3
   },
   "file_extension": ".py",
   "mimetype": "text/x-python",
   "name": "python",
   "nbconvert_exporter": "python",
   "pygments_lexer": "ipython3",
   "version": "3.11.5"
  }
 },
 "nbformat": 4,
 "nbformat_minor": 2
}
